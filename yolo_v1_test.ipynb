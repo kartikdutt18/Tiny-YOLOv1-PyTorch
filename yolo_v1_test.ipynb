{
 "metadata": {
  "language_info": {
   "codemirror_mode": {
    "name": "ipython",
    "version": 3
   },
   "file_extension": ".py",
   "mimetype": "text/x-python",
   "name": "python",
   "nbconvert_exporter": "python",
   "pygments_lexer": "ipython3",
   "version": "3.7.6-final"
  },
  "orig_nbformat": 2,
  "kernelspec": {
   "name": "python37664bitbaseconda7943c5342761411196fb69cfb335ae6a",
   "display_name": "Python 3.7.6 64-bit ('base': conda)"
  }
 },
 "nbformat": 4,
 "nbformat_minor": 2,
 "cells": [
  {
   "cell_type": "code",
   "execution_count": 2,
   "metadata": {},
   "outputs": [],
   "source": [
    "from collections import OrderedDict\n",
    "import torch\n",
    "from torch import nn\n",
    "import torch.nn.functional as F\n",
    "import torch.utils.model_zoo as model_zoo\n",
    "import numpy as np\n",
    "from xml.etree import ElementTree\n",
    "from PIL import Image\n",
    "import matplotlib.pyplot as plt"
   ]
  },
  {
   "cell_type": "code",
   "execution_count": 3,
   "metadata": {},
   "outputs": [],
   "source": [
    "def conv_layers(in_channels, out_channels):\n",
    "    layer = nn.Sequential(OrderedDict([('conv',nn.Conv2d(in_channels, out_channels, kernel_size=3, padding=1)),\n",
    "            ('Bn', nn.BatchNorm2d(out_channels)), ('leaky_relu', nn.LeakyReLU())]))\n",
    "    return layer"
   ]
  },
  {
   "cell_type": "code",
   "execution_count": 6,
   "metadata": {},
   "outputs": [],
   "source": [
    "def pooling_layers():\n",
    "    layer = nn.Sequential(OrderedDict([('max_pool', nn.MaxPool2d(kernel_size=2, stride=2))]))\n",
    "    return layer"
   ]
  },
  {
   "cell_type": "code",
   "execution_count": 7,
   "metadata": {},
   "outputs": [],
   "source": [
    "class TinyYOLO(nn.Module):\n",
    "    def __init__(self, num_bboxes=2, num_classes=20):\n",
    "        super().__init__()\n",
    "        self.features = self.make_features()\n",
    "        self.classifier = self.make_classifier(num_bboxes, num_classes)\n",
    "\n",
    "    def forward(self, x):\n",
    "        x = self.features(x)\n",
    "        x = x.view(-1, 7 * 7 * 256)\n",
    "        x = self.classifier(x)\n",
    "        return x\n",
    "\n",
    "    def make_features(self):\n",
    "        layers = []\n",
    "        layers.append(conv_layers(3, 16))\n",
    "        out_channels = 16\n",
    "        \n",
    "        for i in range(0, 5):\n",
    "            layers.append(conv_layers(out_channels, out_channels * 2))\n",
    "            layers.append(pooling_layers())\n",
    "            out_channels = out_channels * 2\n",
    "        layers.append(conv_layers(out_channels, out_channels * 2))\n",
    "        out_channels = out_channels * 2\n",
    "        layers.append(conv_layers(out_channels, 256))\n",
    "        return nn.Sequential(*layers)\n",
    "\n",
    "    def make_classifier(self, num_bboxes, num_classes):\n",
    "        return nn.Sequential(nn.Linear(in_features = 256 * 7 * 7, out_features = 1470), nn.Sigmoid())\n",
    "    "
   ]
  },
  {
   "cell_type": "code",
   "execution_count": 8,
   "metadata": {},
   "outputs": [],
   "source": [
    "model = TinyYOLO()"
   ]
  },
  {
   "cell_type": "code",
   "execution_count": 9,
   "metadata": {},
   "outputs": [
    {
     "output_type": "execute_result",
     "data": {
      "text/plain": "torch.Size([1, 1470])"
     },
     "metadata": {},
     "execution_count": 9
    }
   ],
   "source": [
    "model(torch.rand((1, 3, 224, 224))).shape"
   ]
  },
  {
   "cell_type": "code",
   "execution_count": null,
   "metadata": {},
   "outputs": [],
   "source": []
  }
 ]
}